{
  "nbformat": 4,
  "nbformat_minor": 0,
  "metadata": {
    "colab": {
      "name": "Lgm_task#2.ipynb",
      "provenance": []
    },
    "kernelspec": {
      "name": "python3",
      "display_name": "Python 3"
    },
    "language_info": {
      "name": "python"
    }
  },
  "cells": [
    {
      "cell_type": "markdown",
      "metadata": {
        "id": "Pw2KHKVCM0N0"
      },
      "source": [
        "# Task 2- Image to pencil sektch with python."
      ]
    },
    {
      "cell_type": "markdown",
      "metadata": {
        "id": "84R15EztNKZh"
      },
      "source": [
        "Author-Moris Ahmad"
      ]
    },
    {
      "cell_type": "code",
      "metadata": {
        "id": "wZgtrkqQNO23"
      },
      "source": [
        "#importing the library\n",
        "from google.colab.patches import cv2_imshow\n",
        "import cv2"
      ],
      "execution_count": 1,
      "outputs": []
    },
    {
      "cell_type": "code",
      "metadata": {
        "id": "hWHZPYA9Oa1X"
      },
      "source": [
        "#Adding the image\n",
        "img = cv2.imread(\"/content/Naruto.jpg\")\n",
        "\n",
        "scale = 20 \n",
        "width = int(img.shape[1] * scale / 100)\n",
        "height = int(img.shape[0] * scale / 100)\n",
        "dimension = (width, height)\n",
        "  \n",
        "# resize image\n",
        "img2 = cv2.resize(img, dimension, interpolation = cv2.INTER_AREA)\n",
        "cv2_imshow(img2)"
      ],
      "execution_count": null,
      "outputs": []
    },
    {
      "cell_type": "code",
      "metadata": {
        "id": "qpS0ycPkO8NC"
      },
      "source": [
        "#converting to gray scale image\n",
        "img_in_gray = cv2.cvtColor(img, cv2.COLOR_BGR2GRAY)\n",
        "cv2_imshow(img_in_gray)"
      ],
      "execution_count": null,
      "outputs": []
    },
    {
      "cell_type": "code",
      "metadata": {
        "id": "fJOpdGYvPKap"
      },
      "source": [
        "#inverting the grayscale image or transforming into negative using bitwise_not operator\n",
        "img_invert = 255-img_in_gray\n",
        "cv2_imshow(img_invert)"
      ],
      "execution_count": null,
      "outputs": []
    },
    {
      "cell_type": "code",
      "metadata": {
        "id": "gJIMYIrBPUng"
      },
      "source": [
        "#blurring the image using gaussian function\n",
        "blurred_img = cv2.GaussianBlur(img_invert, (21, 21), 0)\n",
        "cv2_imshow(blurred_img)"
      ],
      "execution_count": null,
      "outputs": []
    },
    {
      "cell_type": "code",
      "metadata": {
        "id": "FxKOpj4lPc_F"
      },
      "source": [
        "#inverting the blurred image\n",
        "blurred_invert = 255-blurred_img\n",
        "cv2_imshow(blurred_invert)"
      ],
      "execution_count": null,
      "outputs": []
    },
    {
      "cell_type": "code",
      "metadata": {
        "id": "hDfZti_zPjiu"
      },
      "source": [
        "#final sketch\n",
        "final_sketch = cv2.divide(img_in_gray, blurred_invert, scale=240.0)\n",
        "cv2_imshow(final_sketch)"
      ],
      "execution_count": null,
      "outputs": []
    }
  ]
}