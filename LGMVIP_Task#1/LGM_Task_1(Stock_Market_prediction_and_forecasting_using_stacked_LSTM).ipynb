{
  "nbformat": 4,
  "nbformat_minor": 0,
  "metadata": {
    "colab": {
      "name": "LGM_Task#1(Stock Market prediction and forecasting using stacked LSTM).ipynb",
      "provenance": []
    },
    "kernelspec": {
      "name": "python3",
      "display_name": "Python 3"
    },
    "language_info": {
      "name": "python"
    }
  },
  "cells": [
    {
      "cell_type": "markdown",
      "metadata": {
        "id": "xsJyIW6PqXjh"
      },
      "source": [
        "# **Task_1:Stock Market prediction and forecasting using stacked LSTM**\n",
        "\n"
      ]
    },
    {
      "cell_type": "markdown",
      "metadata": {
        "id": "22NrWTBXL4lI"
      },
      "source": [
        "Author-  Moris Ahmad\n"
      ]
    },
    {
      "cell_type": "code",
      "metadata": {
        "colab": {
          "base_uri": "https://localhost:8080/",
          "height": 204
        },
        "id": "_t3SXgNHrD4b",
        "outputId": "3e0da475-fa96-4031-b99e-4010b2b7a757"
      },
      "source": [
        "#Reading the dataset\n",
        "import pandas as pd\n",
        "df=pd.read_csv('NSE_TATAGLOBAL.csv')\n",
        "df.head()\n",
        "#Sorting the data date wise\n",
        "dfr=df. iloc[::-1]\n",
        "dfr.head()"
      ],
      "execution_count": 11,
      "outputs": [
        {
          "output_type": "execute_result",
          "data": {
            "text/html": [
              "<div>\n",
              "<style scoped>\n",
              "    .dataframe tbody tr th:only-of-type {\n",
              "        vertical-align: middle;\n",
              "    }\n",
              "\n",
              "    .dataframe tbody tr th {\n",
              "        vertical-align: top;\n",
              "    }\n",
              "\n",
              "    .dataframe thead th {\n",
              "        text-align: right;\n",
              "    }\n",
              "</style>\n",
              "<table border=\"1\" class=\"dataframe\">\n",
              "  <thead>\n",
              "    <tr style=\"text-align: right;\">\n",
              "      <th></th>\n",
              "      <th>Date</th>\n",
              "      <th>Open</th>\n",
              "      <th>High</th>\n",
              "      <th>Low</th>\n",
              "      <th>Last</th>\n",
              "      <th>Close</th>\n",
              "      <th>Total Trade Quantity</th>\n",
              "      <th>Turnover (Lacs)</th>\n",
              "    </tr>\n",
              "  </thead>\n",
              "  <tbody>\n",
              "    <tr>\n",
              "      <th>2034</th>\n",
              "      <td>2010-07-21</td>\n",
              "      <td>122.1</td>\n",
              "      <td>123.00</td>\n",
              "      <td>121.05</td>\n",
              "      <td>121.10</td>\n",
              "      <td>121.55</td>\n",
              "      <td>658666</td>\n",
              "      <td>803.56</td>\n",
              "    </tr>\n",
              "    <tr>\n",
              "      <th>2033</th>\n",
              "      <td>2010-07-22</td>\n",
              "      <td>120.3</td>\n",
              "      <td>122.00</td>\n",
              "      <td>120.25</td>\n",
              "      <td>120.75</td>\n",
              "      <td>120.90</td>\n",
              "      <td>293312</td>\n",
              "      <td>355.17</td>\n",
              "    </tr>\n",
              "    <tr>\n",
              "      <th>2032</th>\n",
              "      <td>2010-07-23</td>\n",
              "      <td>121.8</td>\n",
              "      <td>121.95</td>\n",
              "      <td>120.25</td>\n",
              "      <td>120.35</td>\n",
              "      <td>120.65</td>\n",
              "      <td>281312</td>\n",
              "      <td>340.31</td>\n",
              "    </tr>\n",
              "    <tr>\n",
              "      <th>2031</th>\n",
              "      <td>2010-07-26</td>\n",
              "      <td>120.1</td>\n",
              "      <td>121.00</td>\n",
              "      <td>117.10</td>\n",
              "      <td>117.10</td>\n",
              "      <td>117.60</td>\n",
              "      <td>658440</td>\n",
              "      <td>780.01</td>\n",
              "    </tr>\n",
              "    <tr>\n",
              "      <th>2030</th>\n",
              "      <td>2010-07-27</td>\n",
              "      <td>117.6</td>\n",
              "      <td>119.50</td>\n",
              "      <td>112.00</td>\n",
              "      <td>118.80</td>\n",
              "      <td>118.65</td>\n",
              "      <td>586100</td>\n",
              "      <td>694.98</td>\n",
              "    </tr>\n",
              "  </tbody>\n",
              "</table>\n",
              "</div>"
            ],
            "text/plain": [
              "            Date   Open    High  ...   Close  Total Trade Quantity  Turnover (Lacs)\n",
              "2034  2010-07-21  122.1  123.00  ...  121.55                658666           803.56\n",
              "2033  2010-07-22  120.3  122.00  ...  120.90                293312           355.17\n",
              "2032  2010-07-23  121.8  121.95  ...  120.65                281312           340.31\n",
              "2031  2010-07-26  120.1  121.00  ...  117.60                658440           780.01\n",
              "2030  2010-07-27  117.6  119.50  ...  118.65                586100           694.98\n",
              "\n",
              "[5 rows x 8 columns]"
            ]
          },
          "metadata": {
            "tags": []
          },
          "execution_count": 11
        }
      ]
    },
    {
      "cell_type": "code",
      "metadata": {
        "colab": {
          "base_uri": "https://localhost:8080/"
        },
        "id": "tc5uOLamsbjI",
        "outputId": "b785c2c5-3523-4ab9-fa25-2f31101802e2"
      },
      "source": [
        "#Taking High value in d1\n",
        "d1=dfr.reset_index()['High']\n",
        "d1.head()"
      ],
      "execution_count": 12,
      "outputs": [
        {
          "output_type": "execute_result",
          "data": {
            "text/plain": [
              "0    123.00\n",
              "1    122.00\n",
              "2    121.95\n",
              "3    121.00\n",
              "4    119.50\n",
              "Name: High, dtype: float64"
            ]
          },
          "metadata": {
            "tags": []
          },
          "execution_count": 12
        }
      ]
    },
    {
      "cell_type": "code",
      "metadata": {
        "colab": {
          "base_uri": "https://localhost:8080/",
          "height": 282
        },
        "id": "HOnOWHnptP4Q",
        "outputId": "2d3ac464-0515-49f6-80ab-e8a2ac83be99"
      },
      "source": [
        "#Plotting Stock price w.r.t High\n",
        "import matplotlib.pyplot as plt\n",
        "plt.plot(d1)"
      ],
      "execution_count": 13,
      "outputs": [
        {
          "output_type": "execute_result",
          "data": {
            "text/plain": [
              "[<matplotlib.lines.Line2D at 0x7ff37f13fe90>]"
            ]
          },
          "metadata": {
            "tags": []
          },
          "execution_count": 13
        },
        {
          "output_type": "display_data",
          "data": {
            "image/png": "[encoded data removed]",
            "text/plain": [
              "<Figure size 432x288 with 1 Axes>"
            ]
          },
          "metadata": {
            "tags": [],
            "needs_background": "light"
          }
        }
      ]
    },
    {
      "cell_type": "code",
      "metadata": {
        "colab": {
          "base_uri": "https://localhost:8080/"
        },
        "id": "Rr44x2vXt1fH",
        "outputId": "72f8a423-93cc-4a4e-f4c5-c0b9f103313a"
      },
      "source": [
        "#Applying Minmax scaler to transform values of high into 0 to 1\n",
        "import numpy as np\n",
        "from sklearn.preprocessing import MinMaxScaler\n",
        "sc=MinMaxScaler(feature_range=(0,1))\n",
        "d1=sc.fit_transform(np.array(d1).reshape(-1,1))\n",
        "d1\n",
        "#Now d1 is converted into array having value between 0 and 1"
      ],
      "execution_count": 14,
      "outputs": [
        {
          "output_type": "execute_result",
          "data": {
            "text/plain": [
              "array([[0.16344786],\n",
              "       [0.15938199],\n",
              "       [0.15917869],\n",
              "       ...,\n",
              "       [0.6391543 ],\n",
              "       [0.62614353],\n",
              "       [0.62268754]])"
            ]
          },
          "metadata": {
            "tags": []
          },
          "execution_count": 14
        }
      ]
    },
    {
      "cell_type": "code",
      "metadata": {
        "colab": {
          "base_uri": "https://localhost:8080/"
        },
        "id": "qmH_rXVrvBx-",
        "outputId": "aa9a1c71-6cda-4b90-97e3-d2166d057706"
      },
      "source": [
        "#Splitting dataset into train and test split\n",
        "train_size=int(len(d1)*0.65) #training size will be 65% of total size of dataset.\n",
        "test_size=len(d1)-train_size #test size=35%\n",
        "train_size,test_size"
      ],
      "execution_count": 15,
      "outputs": [
        {
          "output_type": "execute_result",
          "data": {
            "text/plain": [
              "(1322, 713)"
            ]
          },
          "metadata": {
            "tags": []
          },
          "execution_count": 15
        }
      ]
    },
    {
      "cell_type": "code",
      "metadata": {
        "colab": {
          "base_uri": "https://localhost:8080/"
        },
        "id": "lO03re5dyx5V",
        "outputId": "0667158b-19d8-40e8-a8d4-affb6daea8ab"
      },
      "source": [
        "train_data,test_data=d1[0:train_size,:],d1[train_size:len(d1),:1]\n",
        "len(train_data),len(test_data)"
      ],
      "execution_count": 17,
      "outputs": [
        {
          "output_type": "execute_result",
          "data": {
            "text/plain": [
              "(1322, 713)"
            ]
          },
          "metadata": {
            "tags": []
          },
          "execution_count": 17
        }
      ]
    },
    {
      "cell_type": "code",
      "metadata": {
        "id": "zZ3zG82gzJpT"
      },
      "source": [
        "import numpy\n",
        "# convert the array of values into a dataset matrix\n",
        "def crDataset(dataset,time_step=1):\n",
        "  dataX,dataY=[],[]\n",
        "  for i in range (len(dataset)-time_step-1):\n",
        "    val=dataset[i:(i+time_step),0]\n",
        "    dataX.append(val)\n",
        "    dataY.append(dataset[i+time_step,0])\n",
        "  return numpy.array(dataX),numpy.array(dataY)"
      ],
      "execution_count": 18,
      "outputs": []
    },
    {
      "cell_type": "code",
      "metadata": {
        "id": "7pUBq89I1llk"
      },
      "source": [
        "#reshaping into x_train and y_train\n",
        "time_step=100\n",
        "x_train, y_train = crDataset(train_data,time_step)\n",
        "x_test, y_test =  crDataset(test_data,time_step)"
      ],
      "execution_count": 33,
      "outputs": []
    },
    {
      "cell_type": "code",
      "metadata": {
        "colab": {
          "base_uri": "https://localhost:8080/"
        },
        "id": "atw4oFQ22e4t",
        "outputId": "c2e412bd-fe65-48e6-92d5-df220b1a1055"
      },
      "source": [
        "print(x_train.shape),print(y_train.shape)"
      ],
      "execution_count": 35,
      "outputs": [
        {
          "output_type": "stream",
          "text": [
            "(1221, 100)\n",
            "(1221,)\n"
          ],
          "name": "stdout"
        },
        {
          "output_type": "execute_result",
          "data": {
            "text/plain": [
              "(None, None)"
            ]
          },
          "metadata": {
            "tags": []
          },
          "execution_count": 35
        }
      ]
    },
    {
      "cell_type": "code",
      "metadata": {
        "id": "vMzUO8_93Iu7"
      },
      "source": [
        "#reshaping x_train and x_test into three dimension which is required for LSTM.\n",
        "#input be like [samples,time steps,features]\n",
        "x_train=x_train.reshape(x_train.shape[0],x_train.shape[1],1)\n",
        "x_test=x_test.reshape(x_test.shape[0],x_test.shape[1],1)"
      ],
      "execution_count": 36,
      "outputs": []
    },
    {
      "cell_type": "code",
      "metadata": {
        "id": "3FcR0bZy4Twq"
      },
      "source": [
        "#Creating stacked LSTM model\n",
        "from tensorflow.keras.models import Sequential\n",
        "from tensorflow.keras.layers import Dense\n",
        "from tensorflow.keras.layers import LSTM\n",
        "model=Sequential()\n",
        "model.add(LSTM(50,return_sequences=True,input_shape=(100,1)))\n",
        "model.add(LSTM(50,return_sequences=True))\n",
        "model.add(LSTM(50))\n",
        "model.add(Dense(1))\n",
        "model.compile(loss='mean_squared_error',optimizer='adam')"
      ],
      "execution_count": 37,
      "outputs": []
    },
    {
      "cell_type": "code",
      "metadata": {
        "colab": {
          "base_uri": "https://localhost:8080/"
        },
        "id": "v8SIAESp5zob",
        "outputId": "1f5b0572-b7ba-41fd-a1e8-40a3c34afaf5"
      },
      "source": [
        "model.summary()"
      ],
      "execution_count": 38,
      "outputs": [
        {
          "output_type": "stream",
          "text": [
            "Model: \"sequential_1\"\n",
            "_________________________________________________________________\n",
            "Layer (type)                 Output Shape              Param #   \n",
            "=================================================================\n",
            "lstm_3 (LSTM)                (None, 100, 50)           10400     \n",
            "_________________________________________________________________\n",
            "lstm_4 (LSTM)                (None, 100, 50)           20200     \n",
            "_________________________________________________________________\n",
            "lstm_5 (LSTM)                (None, 50)                20200     \n",
            "_________________________________________________________________\n",
            "dense_1 (Dense)              (None, 1)                 51        \n",
            "=================================================================\n",
            "Total params: 50,851\n",
            "Trainable params: 50,851\n",
            "Non-trainable params: 0\n",
            "_________________________________________________________________\n"
          ],
          "name": "stdout"
        }
      ]
    },
    {
      "cell_type": "code",
      "metadata": {
        "colab": {
          "base_uri": "https://localhost:8080/"
        },
        "id": "Gt5-rhIp59Kc",
        "outputId": "88fd6232-6e5d-4fc3-d0b9-3d9fafdd072f"
      },
      "source": [
        "model.fit(x_train,y_train,validation_data=(x_test,y_test),epochs=100,batch_size=64,verbose=1)"
      ],
      "execution_count": 39,
      "outputs": [
        {
          "output_type": "stream",
          "text": [
            "Epoch 1/100\n",
            "20/20 [==============================] - 10s 251ms/step - loss: 0.0086 - val_loss: 0.0109\n",
            "Epoch 2/100\n",
            "20/20 [==============================] - 4s 200ms/step - loss: 0.0014 - val_loss: 0.0031\n",
            "Epoch 3/100\n",
            "20/20 [==============================] - 4s 198ms/step - loss: 8.9233e-04 - val_loss: 0.0026\n",
            "Epoch 4/100\n",
            "20/20 [==============================] - 4s 194ms/step - loss: 8.1945e-04 - val_loss: 0.0026\n",
            "Epoch 5/100\n",
            "20/20 [==============================] - 4s 187ms/step - loss: 8.1536e-04 - val_loss: 0.0030\n",
            "Epoch 6/100\n",
            "20/20 [==============================] - 4s 194ms/step - loss: 8.0006e-04 - val_loss: 0.0022\n",
            "Epoch 7/100\n",
            "20/20 [==============================] - 4s 192ms/step - loss: 7.0974e-04 - val_loss: 0.0019\n",
            "Epoch 8/100\n",
            "20/20 [==============================] - 4s 195ms/step - loss: 7.6583e-04 - val_loss: 0.0026\n",
            "Epoch 9/100\n",
            "20/20 [==============================] - 4s 188ms/step - loss: 6.7493e-04 - val_loss: 0.0021\n",
            "Epoch 10/100\n",
            "20/20 [==============================] - 4s 189ms/step - loss: 6.4528e-04 - val_loss: 0.0021\n",
            "Epoch 11/100\n",
            "20/20 [==============================] - 4s 188ms/step - loss: 6.2885e-04 - val_loss: 0.0030\n",
            "Epoch 12/100\n",
            "20/20 [==============================] - 4s 191ms/step - loss: 6.0153e-04 - val_loss: 0.0017\n",
            "Epoch 13/100\n",
            "20/20 [==============================] - 4s 189ms/step - loss: 6.1188e-04 - val_loss: 0.0026\n",
            "Epoch 14/100\n",
            "20/20 [==============================] - 4s 192ms/step - loss: 5.6344e-04 - val_loss: 0.0043\n",
            "Epoch 15/100\n",
            "20/20 [==============================] - 4s 194ms/step - loss: 5.4137e-04 - val_loss: 0.0027\n",
            "Epoch 16/100\n",
            "20/20 [==============================] - 4s 196ms/step - loss: 5.5473e-04 - val_loss: 0.0040\n",
            "Epoch 17/100\n",
            "20/20 [==============================] - 4s 200ms/step - loss: 5.3292e-04 - val_loss: 0.0051\n",
            "Epoch 18/100\n",
            "20/20 [==============================] - 4s 197ms/step - loss: 5.8253e-04 - val_loss: 0.0037\n",
            "Epoch 19/100\n",
            "20/20 [==============================] - 4s 192ms/step - loss: 5.2006e-04 - val_loss: 0.0049\n",
            "Epoch 20/100\n",
            "20/20 [==============================] - 4s 203ms/step - loss: 5.0529e-04 - val_loss: 0.0058\n",
            "Epoch 21/100\n",
            "20/20 [==============================] - 4s 198ms/step - loss: 5.5496e-04 - val_loss: 0.0018\n",
            "Epoch 22/100\n",
            "20/20 [==============================] - 4s 205ms/step - loss: 5.5590e-04 - val_loss: 0.0039\n",
            "Epoch 23/100\n",
            "20/20 [==============================] - 4s 203ms/step - loss: 4.5884e-04 - val_loss: 0.0027\n",
            "Epoch 24/100\n",
            "20/20 [==============================] - 4s 196ms/step - loss: 4.6337e-04 - val_loss: 0.0049\n",
            "Epoch 25/100\n",
            "20/20 [==============================] - 4s 206ms/step - loss: 4.5940e-04 - val_loss: 0.0029\n",
            "Epoch 26/100\n",
            "20/20 [==============================] - 4s 198ms/step - loss: 5.1055e-04 - val_loss: 0.0044\n",
            "Epoch 27/100\n",
            "20/20 [==============================] - 4s 203ms/step - loss: 4.4782e-04 - val_loss: 0.0052\n",
            "Epoch 28/100\n",
            "20/20 [==============================] - 4s 205ms/step - loss: 4.3824e-04 - val_loss: 0.0055\n",
            "Epoch 29/100\n",
            "20/20 [==============================] - 4s 206ms/step - loss: 4.2883e-04 - val_loss: 0.0045\n",
            "Epoch 30/100\n",
            "20/20 [==============================] - 4s 206ms/step - loss: 3.9600e-04 - val_loss: 0.0048\n",
            "Epoch 31/100\n",
            "20/20 [==============================] - 4s 189ms/step - loss: 3.9152e-04 - val_loss: 0.0048\n",
            "Epoch 32/100\n",
            "20/20 [==============================] - 4s 186ms/step - loss: 3.9254e-04 - val_loss: 0.0031\n",
            "Epoch 33/100\n",
            "20/20 [==============================] - 4s 184ms/step - loss: 3.8613e-04 - val_loss: 0.0076\n",
            "Epoch 34/100\n",
            "20/20 [==============================] - 4s 185ms/step - loss: 3.9183e-04 - val_loss: 0.0040\n",
            "Epoch 35/100\n",
            "20/20 [==============================] - 4s 191ms/step - loss: 3.5733e-04 - val_loss: 0.0034\n",
            "Epoch 36/100\n",
            "20/20 [==============================] - 4s 204ms/step - loss: 3.7988e-04 - val_loss: 0.0040\n",
            "Epoch 37/100\n",
            "20/20 [==============================] - 4s 203ms/step - loss: 3.4314e-04 - val_loss: 0.0026\n",
            "Epoch 38/100\n",
            "20/20 [==============================] - 4s 195ms/step - loss: 3.4859e-04 - val_loss: 0.0037\n",
            "Epoch 39/100\n",
            "20/20 [==============================] - 4s 187ms/step - loss: 3.2732e-04 - val_loss: 0.0039\n",
            "Epoch 40/100\n",
            "20/20 [==============================] - 4s 190ms/step - loss: 3.2372e-04 - val_loss: 0.0028\n",
            "Epoch 41/100\n",
            "20/20 [==============================] - 4s 207ms/step - loss: 3.2105e-04 - val_loss: 0.0056\n",
            "Epoch 42/100\n",
            "20/20 [==============================] - 4s 197ms/step - loss: 3.3168e-04 - val_loss: 0.0041\n",
            "Epoch 43/100\n",
            "20/20 [==============================] - 4s 187ms/step - loss: 3.0668e-04 - val_loss: 0.0031\n",
            "Epoch 44/100\n",
            "20/20 [==============================] - 4s 201ms/step - loss: 2.9266e-04 - val_loss: 0.0046\n",
            "Epoch 45/100\n",
            "20/20 [==============================] - 4s 203ms/step - loss: 2.8445e-04 - val_loss: 0.0014\n",
            "Epoch 46/100\n",
            "20/20 [==============================] - 4s 200ms/step - loss: 2.9604e-04 - val_loss: 0.0034\n",
            "Epoch 47/100\n",
            "20/20 [==============================] - 4s 193ms/step - loss: 2.7000e-04 - val_loss: 0.0034\n",
            "Epoch 48/100\n",
            "20/20 [==============================] - 4s 201ms/step - loss: 3.5334e-04 - val_loss: 0.0021\n",
            "Epoch 49/100\n",
            "20/20 [==============================] - 4s 205ms/step - loss: 2.9477e-04 - val_loss: 0.0016\n",
            "Epoch 50/100\n",
            "20/20 [==============================] - 4s 203ms/step - loss: 2.9305e-04 - val_loss: 0.0017\n",
            "Epoch 51/100\n",
            "20/20 [==============================] - 4s 200ms/step - loss: 2.7649e-04 - val_loss: 0.0047\n",
            "Epoch 52/100\n",
            "20/20 [==============================] - 4s 191ms/step - loss: 2.6881e-04 - val_loss: 0.0045\n",
            "Epoch 53/100\n",
            "20/20 [==============================] - 4s 199ms/step - loss: 3.9578e-04 - val_loss: 8.9342e-04\n",
            "Epoch 54/100\n",
            "20/20 [==============================] - 4s 198ms/step - loss: 2.6558e-04 - val_loss: 0.0025\n",
            "Epoch 55/100\n",
            "20/20 [==============================] - 4s 201ms/step - loss: 2.3548e-04 - val_loss: 0.0014\n",
            "Epoch 56/100\n",
            "20/20 [==============================] - 4s 202ms/step - loss: 2.4880e-04 - val_loss: 0.0014\n",
            "Epoch 57/100\n",
            "20/20 [==============================] - 4s 205ms/step - loss: 2.2799e-04 - val_loss: 9.7671e-04\n",
            "Epoch 58/100\n",
            "20/20 [==============================] - 4s 204ms/step - loss: 3.0063e-04 - val_loss: 0.0032\n",
            "Epoch 59/100\n",
            "20/20 [==============================] - 4s 200ms/step - loss: 2.2084e-04 - val_loss: 0.0015\n",
            "Epoch 60/100\n",
            "20/20 [==============================] - 4s 191ms/step - loss: 2.1377e-04 - val_loss: 0.0014\n",
            "Epoch 61/100\n",
            "20/20 [==============================] - 4s 201ms/step - loss: 2.1383e-04 - val_loss: 0.0016\n",
            "Epoch 62/100\n",
            "20/20 [==============================] - 4s 205ms/step - loss: 1.9504e-04 - val_loss: 0.0021\n",
            "Epoch 63/100\n",
            "20/20 [==============================] - 4s 207ms/step - loss: 2.0252e-04 - val_loss: 0.0013\n",
            "Epoch 64/100\n",
            "20/20 [==============================] - 4s 203ms/step - loss: 1.9353e-04 - val_loss: 0.0014\n",
            "Epoch 65/100\n",
            "20/20 [==============================] - 4s 200ms/step - loss: 1.9195e-04 - val_loss: 8.1742e-04\n",
            "Epoch 66/100\n",
            "20/20 [==============================] - 4s 196ms/step - loss: 2.3227e-04 - val_loss: 0.0018\n",
            "Epoch 67/100\n",
            "20/20 [==============================] - 4s 205ms/step - loss: 1.8391e-04 - val_loss: 0.0015\n",
            "Epoch 68/100\n",
            "20/20 [==============================] - 4s 201ms/step - loss: 1.8420e-04 - val_loss: 0.0012\n",
            "Epoch 69/100\n",
            "20/20 [==============================] - 4s 203ms/step - loss: 1.7267e-04 - val_loss: 0.0021\n",
            "Epoch 70/100\n",
            "20/20 [==============================] - 4s 193ms/step - loss: 1.7294e-04 - val_loss: 0.0016\n",
            "Epoch 71/100\n",
            "20/20 [==============================] - 4s 190ms/step - loss: 1.6446e-04 - val_loss: 0.0010\n",
            "Epoch 72/100\n",
            "20/20 [==============================] - 4s 187ms/step - loss: 1.7307e-04 - val_loss: 0.0020\n",
            "Epoch 73/100\n",
            "20/20 [==============================] - 4s 203ms/step - loss: 1.6463e-04 - val_loss: 0.0013\n",
            "Epoch 74/100\n",
            "20/20 [==============================] - 4s 198ms/step - loss: 1.6183e-04 - val_loss: 4.8553e-04\n",
            "Epoch 75/100\n",
            "20/20 [==============================] - 4s 192ms/step - loss: 2.0090e-04 - val_loss: 6.6110e-04\n",
            "Epoch 76/100\n",
            "20/20 [==============================] - 4s 194ms/step - loss: 1.7816e-04 - val_loss: 0.0018\n",
            "Epoch 77/100\n",
            "20/20 [==============================] - 4s 205ms/step - loss: 1.6066e-04 - val_loss: 0.0026\n",
            "Epoch 78/100\n",
            "20/20 [==============================] - 4s 206ms/step - loss: 1.7933e-04 - val_loss: 0.0018\n",
            "Epoch 79/100\n",
            "20/20 [==============================] - 4s 192ms/step - loss: 1.5834e-04 - val_loss: 0.0020\n",
            "Epoch 80/100\n",
            "20/20 [==============================] - 4s 200ms/step - loss: 1.5316e-04 - val_loss: 0.0019\n",
            "Epoch 81/100\n",
            "20/20 [==============================] - 4s 201ms/step - loss: 1.7526e-04 - val_loss: 0.0013\n",
            "Epoch 82/100\n",
            "20/20 [==============================] - 4s 189ms/step - loss: 1.6125e-04 - val_loss: 0.0012\n",
            "Epoch 83/100\n",
            "20/20 [==============================] - 4s 188ms/step - loss: 1.4475e-04 - val_loss: 5.4763e-04\n",
            "Epoch 84/100\n",
            "20/20 [==============================] - 4s 189ms/step - loss: 1.9671e-04 - val_loss: 4.8926e-04\n",
            "Epoch 85/100\n",
            "20/20 [==============================] - 4s 196ms/step - loss: 1.7272e-04 - val_loss: 5.4301e-04\n",
            "Epoch 86/100\n",
            "20/20 [==============================] - 4s 197ms/step - loss: 1.7528e-04 - val_loss: 0.0020\n",
            "Epoch 87/100\n",
            "20/20 [==============================] - 4s 193ms/step - loss: 1.6252e-04 - val_loss: 0.0013\n",
            "Epoch 88/100\n",
            "20/20 [==============================] - 4s 187ms/step - loss: 1.4640e-04 - val_loss: 0.0018\n",
            "Epoch 89/100\n",
            "20/20 [==============================] - 4s 188ms/step - loss: 1.7153e-04 - val_loss: 0.0017\n",
            "Epoch 90/100\n",
            "20/20 [==============================] - 4s 185ms/step - loss: 1.5557e-04 - val_loss: 7.8191e-04\n",
            "Epoch 91/100\n",
            "20/20 [==============================] - 4s 203ms/step - loss: 1.4001e-04 - val_loss: 8.5748e-04\n",
            "Epoch 92/100\n",
            "20/20 [==============================] - 4s 202ms/step - loss: 1.3647e-04 - val_loss: 0.0012\n",
            "Epoch 93/100\n",
            "20/20 [==============================] - 4s 201ms/step - loss: 1.3269e-04 - val_loss: 9.8580e-04\n",
            "Epoch 94/100\n",
            "20/20 [==============================] - 4s 205ms/step - loss: 1.3857e-04 - val_loss: 0.0011\n",
            "Epoch 95/100\n",
            "20/20 [==============================] - 4s 203ms/step - loss: 1.3148e-04 - val_loss: 0.0023\n",
            "Epoch 96/100\n",
            "20/20 [==============================] - 4s 192ms/step - loss: 1.7338e-04 - val_loss: 0.0021\n",
            "Epoch 97/100\n",
            "20/20 [==============================] - 4s 205ms/step - loss: 1.3689e-04 - val_loss: 7.9980e-04\n",
            "Epoch 98/100\n",
            "20/20 [==============================] - 4s 203ms/step - loss: 1.3898e-04 - val_loss: 0.0014\n",
            "Epoch 99/100\n",
            "20/20 [==============================] - 4s 203ms/step - loss: 1.3295e-04 - val_loss: 0.0020\n",
            "Epoch 100/100\n",
            "20/20 [==============================] - 4s 206ms/step - loss: 1.3374e-04 - val_loss: 8.2182e-04\n"
          ],
          "name": "stdout"
        },
        {
          "output_type": "execute_result",
          "data": {
            "text/plain": [
              "<tensorflow.python.keras.callbacks.History at 0x7ff3379a2750>"
            ]
          },
          "metadata": {
            "tags": []
          },
          "execution_count": 39
        }
      ]
    },
    {
      "cell_type": "code",
      "metadata": {
        "colab": {
          "base_uri": "https://localhost:8080/",
          "height": 35
        },
        "id": "WhKGQ6Uw-uQr",
        "outputId": "821a426d-9aec-43e7-adf9-f34bc4700055"
      },
      "source": [
        "import tensorflow as tf\n",
        "tf.__version__"
      ],
      "execution_count": 40,
      "outputs": [
        {
          "output_type": "execute_result",
          "data": {
            "application/vnd.google.colaboratory.intrinsic+json": {
              "type": "string"
            },
            "text/plain": [
              "'2.5.0'"
            ]
          },
          "metadata": {
            "tags": []
          },
          "execution_count": 40
        }
      ]
    },
    {
      "cell_type": "code",
      "metadata": {
        "id": "4ijj1_t-7yHi"
      },
      "source": [
        "#Will make prediction and check performance metices\n",
        "train_predict=model.predict(x_train)\n",
        "test_predict=model.predict(x_test)"
      ],
      "execution_count": 41,
      "outputs": []
    },
    {
      "cell_type": "code",
      "metadata": {
        "id": "zrdJzXOw8bwo"
      },
      "source": [
        "#Transforming back to original form\n",
        "train_predict=sc.inverse_transform(train_predict)\n",
        "test_predict=sc.inverse_transform(test_predict)"
      ],
      "execution_count": 43,
      "outputs": []
    },
    {
      "cell_type": "code",
      "metadata": {
        "colab": {
          "base_uri": "https://localhost:8080/"
        },
        "id": "i59BzJw2_VFc",
        "outputId": "8b96b1e8-7e0f-4101-faaa-8079dbb4efdf"
      },
      "source": [
        "#Calculating RSME Performance metrics\n",
        "import math\n",
        "from sklearn.metrics import mean_squared_error\n",
        "#For train Data\n",
        "math.sqrt(mean_squared_error(y_train,train_predict))"
      ],
      "execution_count": 45,
      "outputs": [
        {
          "output_type": "execute_result",
          "data": {
            "text/plain": [
              "136.63166129685024"
            ]
          },
          "metadata": {
            "tags": []
          },
          "execution_count": 45
        }
      ]
    },
    {
      "cell_type": "code",
      "metadata": {
        "colab": {
          "base_uri": "https://localhost:8080/"
        },
        "id": "uKgN0OW3_rgc",
        "outputId": "4f9904cf-7af2-4b8b-a590-0f3f8f07d044"
      },
      "source": [
        "#For test Data\n",
        "math.sqrt(mean_squared_error(y_test,test_predict))"
      ],
      "execution_count": 46,
      "outputs": [
        {
          "output_type": "execute_result",
          "data": {
            "text/plain": [
              "200.05654299776734"
            ]
          },
          "metadata": {
            "tags": []
          },
          "execution_count": 46
        }
      ]
    },
    {
      "cell_type": "code",
      "metadata": {
        "colab": {
          "base_uri": "https://localhost:8080/",
          "height": 265
        },
        "id": "rSOox-F7_3TZ",
        "outputId": "c4b1f479-0c04-4124-db46-310e078a26c4"
      },
      "source": [
        "#plotting our train and test data\n",
        "#shift train predictions for plotting\n",
        "look_back=100\n",
        "trainPredictPlot=numpy.empty_like(d1)\n",
        "trainPredictPlot[:,:]=np.nan\n",
        "trainPredictPlot[look_back:len(train_predict)+look_back,:]=train_predict\n",
        "#shift test predictions for plotting\n",
        "testPredictPlot=numpy.empty_like(d1)\n",
        "testPredictPlot[:,:]=np.nan\n",
        "testPredictPlot[len(train_predict)+(look_back*2)+1:len(d1)-1,:]=test_predict\n",
        "#plot baseline and predictions\n",
        "plt.plot(sc.inverse_transform(d1))\n",
        "plt.plot(trainPredictPlot)\n",
        "plt.plot(testPredictPlot)\n",
        "plt.show()\n",
        "#orange--> Training data\n",
        "#blue --> Original data\n",
        "#green--> Predicted data"
      ],
      "execution_count": 48,
      "outputs": [
        {
          "output_type": "display_data",
          "data": {
            "image/png": "[encoded data removed]",
            "text/plain": [
              "<Figure size 432x288 with 1 Axes>"
            ]
          },
          "metadata": {
            "tags": [],
            "needs_background": "light"
          }
        }
      ]
    },
    {
      "cell_type": "code",
      "metadata": {
        "colab": {
          "base_uri": "https://localhost:8080/"
        },
        "id": "AdeyuwftBcq3",
        "outputId": "1374cf26-c2c8-4b9f-f275-e2ac38c2f85f"
      },
      "source": [
        "len(test_data)"
      ],
      "execution_count": 49,
      "outputs": [
        {
          "output_type": "execute_result",
          "data": {
            "text/plain": [
              "713"
            ]
          },
          "metadata": {
            "tags": []
          },
          "execution_count": 49
        }
      ]
    },
    {
      "cell_type": "code",
      "metadata": {
        "colab": {
          "base_uri": "https://localhost:8080/"
        },
        "id": "GOZpM_tQB71Y",
        "outputId": "492c6d38-f586-4366-b1dc-d6e08bb8704a"
      },
      "source": [
        "x_input=test_data[613:].reshape(1,-1)\n",
        "x_input.shape"
      ],
      "execution_count": 50,
      "outputs": [
        {
          "output_type": "execute_result",
          "data": {
            "text/plain": [
              "(1, 100)"
            ]
          },
          "metadata": {
            "tags": []
          },
          "execution_count": 50
        }
      ]
    },
    {
      "cell_type": "code",
      "metadata": {
        "id": "t2pvu7ZKCJcS"
      },
      "source": [
        "#converting test data into list\n",
        "temp_input=list(x_input)\n",
        "temp_input=temp_input[0].tolist()"
      ],
      "execution_count": 51,
      "outputs": []
    },
    {
      "cell_type": "code",
      "metadata": {
        "colab": {
          "base_uri": "https://localhost:8080/"
        },
        "id": "dOLrlbDoCkQX",
        "outputId": "be745ef0-1835-44af-bce1-108828494a7e"
      },
      "source": [
        "#Demonstrate prediction for the next 30 days\n",
        "from numpy import array\n",
        "\n",
        "l_output=[]\n",
        "n_steps=100\n",
        "i=0\n",
        "while(i<30):\n",
        "  if(len(temp_input)>100):\n",
        "    x_input=np.array(temp_input[1:])\n",
        "    print(\"{} day input {}\".format(i,x_input))\n",
        "    x_input=x_input.reshape(1,-1)\n",
        "    x_input=x_input.reshape((1,n_steps,1))\n",
        "    yhat=model.predict(x_input,verbose=0)\n",
        "    print(\"{} day output {}\".format(i,yhat))\n",
        "    temp_input.extend(yhat[0].tolist())\n",
        "    temp_input=temp_input[1:]\n",
        "    l_output.extend(yhat.tolist())\n",
        "    i=i+1\n",
        "  else:\n",
        "    x_input=x_input.reshape((1,n_steps,1)) #reshaping\n",
        "    yhat=model.predict(x_input,verbose=0) #prediction\n",
        "    print(yhat[0])\n",
        "    temp_input.extend(yhat[0].tolist()) #adding yhat value to previous input\n",
        "    print(len(temp_input))\n",
        "    l_output.extend(yhat.tolist()) #adding yhat value to final output\n",
        "    i=i+1\n",
        "\n",
        "print(l_output)"
      ],
      "execution_count": 52,
      "outputs": [
        {
          "output_type": "stream",
          "text": [
            "[0.59889364]\n",
            "101\n",
            "1 day input [0.86013417 0.85464525 0.84448059 0.8072779  0.71843871 0.66192316\n",
            " 0.67696686 0.67554381 0.67310429 0.68428542 0.68936776 0.70217524\n",
            " 0.71803212 0.72941655 0.73144948 0.74486684 0.76926205 0.75991055\n",
            " 0.74242732 0.73958122 0.74771295 0.75991055 0.7584875  0.76621264\n",
            " 0.75462492 0.76316324 0.79670665 0.80585485 0.7889815  0.78003659\n",
            " 0.73978451 0.73002643 0.73490547 0.74872942 0.75991055 0.75462492\n",
            " 0.75401504 0.76174019 0.7737345  0.82008538 0.80585485 0.81154706\n",
            " 0.77434438 0.78633869 0.79284407 0.78328929 0.77109169 0.74385038\n",
            " 0.71193332 0.68733482 0.67818662 0.65257166 0.64301687 0.65643423\n",
            " 0.67656028 0.67371417 0.65114861 0.65521447 0.66761537 0.67838992\n",
            " 0.69993901 0.63122586 0.63508843 0.64098394 0.64545639 0.64118723\n",
            " 0.63854442 0.63081927 0.62472047 0.6330555  0.64728603 0.6574507\n",
            " 0.66761537 0.66720878 0.64159382 0.62776987 0.63651149 0.63630819\n",
            " 0.62980281 0.62817646 0.63813783 0.65358813 0.63183574 0.57653995\n",
            " 0.57816629 0.57613336 0.61943484 0.57979264 0.57288067 0.62573694\n",
            " 0.63102257 0.6361049  0.62776987 0.6269567  0.63590161 0.62594023\n",
            " 0.6391543  0.62614353 0.62268754 0.59889364]\n",
            "1 day output [[0.57736725]]\n",
            "2 day input [0.85464525 0.84448059 0.8072779  0.71843871 0.66192316 0.67696686\n",
            " 0.67554381 0.67310429 0.68428542 0.68936776 0.70217524 0.71803212\n",
            " 0.72941655 0.73144948 0.74486684 0.76926205 0.75991055 0.74242732\n",
            " 0.73958122 0.74771295 0.75991055 0.7584875  0.76621264 0.75462492\n",
            " 0.76316324 0.79670665 0.80585485 0.7889815  0.78003659 0.73978451\n",
            " 0.73002643 0.73490547 0.74872942 0.75991055 0.75462492 0.75401504\n",
            " 0.76174019 0.7737345  0.82008538 0.80585485 0.81154706 0.77434438\n",
            " 0.78633869 0.79284407 0.78328929 0.77109169 0.74385038 0.71193332\n",
            " 0.68733482 0.67818662 0.65257166 0.64301687 0.65643423 0.67656028\n",
            " 0.67371417 0.65114861 0.65521447 0.66761537 0.67838992 0.69993901\n",
            " 0.63122586 0.63508843 0.64098394 0.64545639 0.64118723 0.63854442\n",
            " 0.63081927 0.62472047 0.6330555  0.64728603 0.6574507  0.66761537\n",
            " 0.66720878 0.64159382 0.62776987 0.63651149 0.63630819 0.62980281\n",
            " 0.62817646 0.63813783 0.65358813 0.63183574 0.57653995 0.57816629\n",
            " 0.57613336 0.61943484 0.57979264 0.57288067 0.62573694 0.63102257\n",
            " 0.6361049  0.62776987 0.6269567  0.63590161 0.62594023 0.6391543\n",
            " 0.62614353 0.62268754 0.59889364 0.57736725]\n",
            "2 day output [[0.5561825]]\n",
            "3 day input [0.84448059 0.8072779  0.71843871 0.66192316 0.67696686 0.67554381\n",
            " 0.67310429 0.68428542 0.68936776 0.70217524 0.71803212 0.72941655\n",
            " 0.73144948 0.74486684 0.76926205 0.75991055 0.74242732 0.73958122\n",
            " 0.74771295 0.75991055 0.7584875  0.76621264 0.75462492 0.76316324\n",
            " 0.79670665 0.80585485 0.7889815  0.78003659 0.73978451 0.73002643\n",
            " 0.73490547 0.74872942 0.75991055 0.75462492 0.75401504 0.76174019\n",
            " 0.7737345  0.82008538 0.80585485 0.81154706 0.77434438 0.78633869\n",
            " 0.79284407 0.78328929 0.77109169 0.74385038 0.71193332 0.68733482\n",
            " 0.67818662 0.65257166 0.64301687 0.65643423 0.67656028 0.67371417\n",
            " 0.65114861 0.65521447 0.66761537 0.67838992 0.69993901 0.63122586\n",
            " 0.63508843 0.64098394 0.64545639 0.64118723 0.63854442 0.63081927\n",
            " 0.62472047 0.6330555  0.64728603 0.6574507  0.66761537 0.66720878\n",
            " 0.64159382 0.62776987 0.63651149 0.63630819 0.62980281 0.62817646\n",
            " 0.63813783 0.65358813 0.63183574 0.57653995 0.57816629 0.57613336\n",
            " 0.61943484 0.57979264 0.57288067 0.62573694 0.63102257 0.6361049\n",
            " 0.62776987 0.6269567  0.63590161 0.62594023 0.6391543  0.62614353\n",
            " 0.62268754 0.59889364 0.57736725 0.5561825 ]\n",
            "3 day output [[0.5391044]]\n",
            "4 day input [0.8072779  0.71843871 0.66192316 0.67696686 0.67554381 0.67310429\n",
            " 0.68428542 0.68936776 0.70217524 0.71803212 0.72941655 0.73144948\n",
            " 0.74486684 0.76926205 0.75991055 0.74242732 0.73958122 0.74771295\n",
            " 0.75991055 0.7584875  0.76621264 0.75462492 0.76316324 0.79670665\n",
            " 0.80585485 0.7889815  0.78003659 0.73978451 0.73002643 0.73490547\n",
            " 0.74872942 0.75991055 0.75462492 0.75401504 0.76174019 0.7737345\n",
            " 0.82008538 0.80585485 0.81154706 0.77434438 0.78633869 0.79284407\n",
            " 0.78328929 0.77109169 0.74385038 0.71193332 0.68733482 0.67818662\n",
            " 0.65257166 0.64301687 0.65643423 0.67656028 0.67371417 0.65114861\n",
            " 0.65521447 0.66761537 0.67838992 0.69993901 0.63122586 0.63508843\n",
            " 0.64098394 0.64545639 0.64118723 0.63854442 0.63081927 0.62472047\n",
            " 0.6330555  0.64728603 0.6574507  0.66761537 0.66720878 0.64159382\n",
            " 0.62776987 0.63651149 0.63630819 0.62980281 0.62817646 0.63813783\n",
            " 0.65358813 0.63183574 0.57653995 0.57816629 0.57613336 0.61943484\n",
            " 0.57979264 0.57288067 0.62573694 0.63102257 0.6361049  0.62776987\n",
            " 0.6269567  0.63590161 0.62594023 0.6391543  0.62614353 0.62268754\n",
            " 0.59889364 0.57736725 0.5561825  0.5391044 ]\n",
            "4 day output [[0.5250074]]\n",
            "5 day input [0.71843871 0.66192316 0.67696686 0.67554381 0.67310429 0.68428542\n",
            " 0.68936776 0.70217524 0.71803212 0.72941655 0.73144948 0.74486684\n",
            " 0.76926205 0.75991055 0.74242732 0.73958122 0.74771295 0.75991055\n",
            " 0.7584875  0.76621264 0.75462492 0.76316324 0.79670665 0.80585485\n",
            " 0.7889815  0.78003659 0.73978451 0.73002643 0.73490547 0.74872942\n",
            " 0.75991055 0.75462492 0.75401504 0.76174019 0.7737345  0.82008538\n",
            " 0.80585485 0.81154706 0.77434438 0.78633869 0.79284407 0.78328929\n",
            " 0.77109169 0.74385038 0.71193332 0.68733482 0.67818662 0.65257166\n",
            " 0.64301687 0.65643423 0.67656028 0.67371417 0.65114861 0.65521447\n",
            " 0.66761537 0.67838992 0.69993901 0.63122586 0.63508843 0.64098394\n",
            " 0.64545639 0.64118723 0.63854442 0.63081927 0.62472047 0.6330555\n",
            " 0.64728603 0.6574507  0.66761537 0.66720878 0.64159382 0.62776987\n",
            " 0.63651149 0.63630819 0.62980281 0.62817646 0.63813783 0.65358813\n",
            " 0.63183574 0.57653995 0.57816629 0.57613336 0.61943484 0.57979264\n",
            " 0.57288067 0.62573694 0.63102257 0.6361049  0.62776987 0.6269567\n",
            " 0.63590161 0.62594023 0.6391543  0.62614353 0.62268754 0.59889364\n",
            " 0.57736725 0.5561825  0.5391044  0.52500743]\n",
            "5 day output [[0.5131054]]\n",
            "6 day input [0.66192316 0.67696686 0.67554381 0.67310429 0.68428542 0.68936776\n",
            " 0.70217524 0.71803212 0.72941655 0.73144948 0.74486684 0.76926205\n",
            " 0.75991055 0.74242732 0.73958122 0.74771295 0.75991055 0.7584875\n",
            " 0.76621264 0.75462492 0.76316324 0.79670665 0.80585485 0.7889815\n",
            " 0.78003659 0.73978451 0.73002643 0.73490547 0.74872942 0.75991055\n",
            " 0.75462492 0.75401504 0.76174019 0.7737345  0.82008538 0.80585485\n",
            " 0.81154706 0.77434438 0.78633869 0.79284407 0.78328929 0.77109169\n",
            " 0.74385038 0.71193332 0.68733482 0.67818662 0.65257166 0.64301687\n",
            " 0.65643423 0.67656028 0.67371417 0.65114861 0.65521447 0.66761537\n",
            " 0.67838992 0.69993901 0.63122586 0.63508843 0.64098394 0.64545639\n",
            " 0.64118723 0.63854442 0.63081927 0.62472047 0.6330555  0.64728603\n",
            " 0.6574507  0.66761537 0.66720878 0.64159382 0.62776987 0.63651149\n",
            " 0.63630819 0.62980281 0.62817646 0.63813783 0.65358813 0.63183574\n",
            " 0.57653995 0.57816629 0.57613336 0.61943484 0.57979264 0.57288067\n",
            " 0.62573694 0.63102257 0.6361049  0.62776987 0.6269567  0.63590161\n",
            " 0.62594023 0.6391543  0.62614353 0.62268754 0.59889364 0.57736725\n",
            " 0.5561825  0.5391044  0.52500743 0.51310539]\n",
            "6 day output [[0.5031981]]\n",
            "7 day input [0.67696686 0.67554381 0.67310429 0.68428542 0.68936776 0.70217524\n",
            " 0.71803212 0.72941655 0.73144948 0.74486684 0.76926205 0.75991055\n",
            " 0.74242732 0.73958122 0.74771295 0.75991055 0.7584875  0.76621264\n",
            " 0.75462492 0.76316324 0.79670665 0.80585485 0.7889815  0.78003659\n",
            " 0.73978451 0.73002643 0.73490547 0.74872942 0.75991055 0.75462492\n",
            " 0.75401504 0.76174019 0.7737345  0.82008538 0.80585485 0.81154706\n",
            " 0.77434438 0.78633869 0.79284407 0.78328929 0.77109169 0.74385038\n",
            " 0.71193332 0.68733482 0.67818662 0.65257166 0.64301687 0.65643423\n",
            " 0.67656028 0.67371417 0.65114861 0.65521447 0.66761537 0.67838992\n",
            " 0.69993901 0.63122586 0.63508843 0.64098394 0.64545639 0.64118723\n",
            " 0.63854442 0.63081927 0.62472047 0.6330555  0.64728603 0.6574507\n",
            " 0.66761537 0.66720878 0.64159382 0.62776987 0.63651149 0.63630819\n",
            " 0.62980281 0.62817646 0.63813783 0.65358813 0.63183574 0.57653995\n",
            " 0.57816629 0.57613336 0.61943484 0.57979264 0.57288067 0.62573694\n",
            " 0.63102257 0.6361049  0.62776987 0.6269567  0.63590161 0.62594023\n",
            " 0.6391543  0.62614353 0.62268754 0.59889364 0.57736725 0.5561825\n",
            " 0.5391044  0.52500743 0.51310539 0.50319809]\n",
            "7 day output [[0.49502495]]\n",
            "8 day input [0.67554381 0.67310429 0.68428542 0.68936776 0.70217524 0.71803212\n",
            " 0.72941655 0.73144948 0.74486684 0.76926205 0.75991055 0.74242732\n",
            " 0.73958122 0.74771295 0.75991055 0.7584875  0.76621264 0.75462492\n",
            " 0.76316324 0.79670665 0.80585485 0.7889815  0.78003659 0.73978451\n",
            " 0.73002643 0.73490547 0.74872942 0.75991055 0.75462492 0.75401504\n",
            " 0.76174019 0.7737345  0.82008538 0.80585485 0.81154706 0.77434438\n",
            " 0.78633869 0.79284407 0.78328929 0.77109169 0.74385038 0.71193332\n",
            " 0.68733482 0.67818662 0.65257166 0.64301687 0.65643423 0.67656028\n",
            " 0.67371417 0.65114861 0.65521447 0.66761537 0.67838992 0.69993901\n",
            " 0.63122586 0.63508843 0.64098394 0.64545639 0.64118723 0.63854442\n",
            " 0.63081927 0.62472047 0.6330555  0.64728603 0.6574507  0.66761537\n",
            " 0.66720878 0.64159382 0.62776987 0.63651149 0.63630819 0.62980281\n",
            " 0.62817646 0.63813783 0.65358813 0.63183574 0.57653995 0.57816629\n",
            " 0.57613336 0.61943484 0.57979264 0.57288067 0.62573694 0.63102257\n",
            " 0.6361049  0.62776987 0.6269567  0.63590161 0.62594023 0.6391543\n",
            " 0.62614353 0.62268754 0.59889364 0.57736725 0.5561825  0.5391044\n",
            " 0.52500743 0.51310539 0.50319809 0.49502495]\n",
            "8 day output [[0.48814282]]\n",
            "9 day input [0.67310429 0.68428542 0.68936776 0.70217524 0.71803212 0.72941655\n",
            " 0.73144948 0.74486684 0.76926205 0.75991055 0.74242732 0.73958122\n",
            " 0.74771295 0.75991055 0.7584875  0.76621264 0.75462492 0.76316324\n",
            " 0.79670665 0.80585485 0.7889815  0.78003659 0.73978451 0.73002643\n",
            " 0.73490547 0.74872942 0.75991055 0.75462492 0.75401504 0.76174019\n",
            " 0.7737345  0.82008538 0.80585485 0.81154706 0.77434438 0.78633869\n",
            " 0.79284407 0.78328929 0.77109169 0.74385038 0.71193332 0.68733482\n",
            " 0.67818662 0.65257166 0.64301687 0.65643423 0.67656028 0.67371417\n",
            " 0.65114861 0.65521447 0.66761537 0.67838992 0.69993901 0.63122586\n",
            " 0.63508843 0.64098394 0.64545639 0.64118723 0.63854442 0.63081927\n",
            " 0.62472047 0.6330555  0.64728603 0.6574507  0.66761537 0.66720878\n",
            " 0.64159382 0.62776987 0.63651149 0.63630819 0.62980281 0.62817646\n",
            " 0.63813783 0.65358813 0.63183574 0.57653995 0.57816629 0.57613336\n",
            " 0.61943484 0.57979264 0.57288067 0.62573694 0.63102257 0.6361049\n",
            " 0.62776987 0.6269567  0.63590161 0.62594023 0.6391543  0.62614353\n",
            " 0.62268754 0.59889364 0.57736725 0.5561825  0.5391044  0.52500743\n",
            " 0.51310539 0.50319809 0.49502495 0.48814282]\n",
            "9 day output [[0.48208117]]\n",
            "10 day input [0.68428542 0.68936776 0.70217524 0.71803212 0.72941655 0.73144948\n",
            " 0.74486684 0.76926205 0.75991055 0.74242732 0.73958122 0.74771295\n",
            " 0.75991055 0.7584875  0.76621264 0.75462492 0.76316324 0.79670665\n",
            " 0.80585485 0.7889815  0.78003659 0.73978451 0.73002643 0.73490547\n",
            " 0.74872942 0.75991055 0.75462492 0.75401504 0.76174019 0.7737345\n",
            " 0.82008538 0.80585485 0.81154706 0.77434438 0.78633869 0.79284407\n",
            " 0.78328929 0.77109169 0.74385038 0.71193332 0.68733482 0.67818662\n",
            " 0.65257166 0.64301687 0.65643423 0.67656028 0.67371417 0.65114861\n",
            " 0.65521447 0.66761537 0.67838992 0.69993901 0.63122586 0.63508843\n",
            " 0.64098394 0.64545639 0.64118723 0.63854442 0.63081927 0.62472047\n",
            " 0.6330555  0.64728603 0.6574507  0.66761537 0.66720878 0.64159382\n",
            " 0.62776987 0.63651149 0.63630819 0.62980281 0.62817646 0.63813783\n",
            " 0.65358813 0.63183574 0.57653995 0.57816629 0.57613336 0.61943484\n",
            " 0.57979264 0.57288067 0.62573694 0.63102257 0.6361049  0.62776987\n",
            " 0.6269567  0.63590161 0.62594023 0.6391543  0.62614353 0.62268754\n",
            " 0.59889364 0.57736725 0.5561825  0.5391044  0.52500743 0.51310539\n",
            " 0.50319809 0.49502495 0.48814282 0.48208117]\n",
            "10 day output [[0.47646886]]\n",
            "11 day input [0.68936776 0.70217524 0.71803212 0.72941655 0.73144948 0.74486684\n",
            " 0.76926205 0.75991055 0.74242732 0.73958122 0.74771295 0.75991055\n",
            " 0.7584875  0.76621264 0.75462492 0.76316324 0.79670665 0.80585485\n",
            " 0.7889815  0.78003659 0.73978451 0.73002643 0.73490547 0.74872942\n",
            " 0.75991055 0.75462492 0.75401504 0.76174019 0.7737345  0.82008538\n",
            " 0.80585485 0.81154706 0.77434438 0.78633869 0.79284407 0.78328929\n",
            " 0.77109169 0.74385038 0.71193332 0.68733482 0.67818662 0.65257166\n",
            " 0.64301687 0.65643423 0.67656028 0.67371417 0.65114861 0.65521447\n",
            " 0.66761537 0.67838992 0.69993901 0.63122586 0.63508843 0.64098394\n",
            " 0.64545639 0.64118723 0.63854442 0.63081927 0.62472047 0.6330555\n",
            " 0.64728603 0.6574507  0.66761537 0.66720878 0.64159382 0.62776987\n",
            " 0.63651149 0.63630819 0.62980281 0.62817646 0.63813783 0.65358813\n",
            " 0.63183574 0.57653995 0.57816629 0.57613336 0.61943484 0.57979264\n",
            " 0.57288067 0.62573694 0.63102257 0.6361049  0.62776987 0.6269567\n",
            " 0.63590161 0.62594023 0.6391543  0.62614353 0.62268754 0.59889364\n",
            " 0.57736725 0.5561825  0.5391044  0.52500743 0.51310539 0.50319809\n",
            " 0.49502495 0.48814282 0.48208117 0.47646886]\n",
            "11 day output [[0.47106582]]\n",
            "12 day input [0.70217524 0.71803212 0.72941655 0.73144948 0.74486684 0.76926205\n",
            " 0.75991055 0.74242732 0.73958122 0.74771295 0.75991055 0.7584875\n",
            " 0.76621264 0.75462492 0.76316324 0.79670665 0.80585485 0.7889815\n",
            " 0.78003659 0.73978451 0.73002643 0.73490547 0.74872942 0.75991055\n",
            " 0.75462492 0.75401504 0.76174019 0.7737345  0.82008538 0.80585485\n",
            " 0.81154706 0.77434438 0.78633869 0.79284407 0.78328929 0.77109169\n",
            " 0.74385038 0.71193332 0.68733482 0.67818662 0.65257166 0.64301687\n",
            " 0.65643423 0.67656028 0.67371417 0.65114861 0.65521447 0.66761537\n",
            " 0.67838992 0.69993901 0.63122586 0.63508843 0.64098394 0.64545639\n",
            " 0.64118723 0.63854442 0.63081927 0.62472047 0.6330555  0.64728603\n",
            " 0.6574507  0.66761537 0.66720878 0.64159382 0.62776987 0.63651149\n",
            " 0.63630819 0.62980281 0.62817646 0.63813783 0.65358813 0.63183574\n",
            " 0.57653995 0.57816629 0.57613336 0.61943484 0.57979264 0.57288067\n",
            " 0.62573694 0.63102257 0.6361049  0.62776987 0.6269567  0.63590161\n",
            " 0.62594023 0.6391543  0.62614353 0.62268754 0.59889364 0.57736725\n",
            " 0.5561825  0.5391044  0.52500743 0.51310539 0.50319809 0.49502495\n",
            " 0.48814282 0.48208117 0.47646886 0.47106582]\n",
            "12 day output [[0.46574646]]\n",
            "13 day input [0.71803212 0.72941655 0.73144948 0.74486684 0.76926205 0.75991055\n",
            " 0.74242732 0.73958122 0.74771295 0.75991055 0.7584875  0.76621264\n",
            " 0.75462492 0.76316324 0.79670665 0.80585485 0.7889815  0.78003659\n",
            " 0.73978451 0.73002643 0.73490547 0.74872942 0.75991055 0.75462492\n",
            " 0.75401504 0.76174019 0.7737345  0.82008538 0.80585485 0.81154706\n",
            " 0.77434438 0.78633869 0.79284407 0.78328929 0.77109169 0.74385038\n",
            " 0.71193332 0.68733482 0.67818662 0.65257166 0.64301687 0.65643423\n",
            " 0.67656028 0.67371417 0.65114861 0.65521447 0.66761537 0.67838992\n",
            " 0.69993901 0.63122586 0.63508843 0.64098394 0.64545639 0.64118723\n",
            " 0.63854442 0.63081927 0.62472047 0.6330555  0.64728603 0.6574507\n",
            " 0.66761537 0.66720878 0.64159382 0.62776987 0.63651149 0.63630819\n",
            " 0.62980281 0.62817646 0.63813783 0.65358813 0.63183574 0.57653995\n",
            " 0.57816629 0.57613336 0.61943484 0.57979264 0.57288067 0.62573694\n",
            " 0.63102257 0.6361049  0.62776987 0.6269567  0.63590161 0.62594023\n",
            " 0.6391543  0.62614353 0.62268754 0.59889364 0.57736725 0.5561825\n",
            " 0.5391044  0.52500743 0.51310539 0.50319809 0.49502495 0.48814282\n",
            " 0.48208117 0.47646886 0.47106582 0.46574646]\n",
            "13 day output [[0.46046892]]\n",
            "14 day input [0.72941655 0.73144948 0.74486684 0.76926205 0.75991055 0.74242732\n",
            " 0.73958122 0.74771295 0.75991055 0.7584875  0.76621264 0.75462492\n",
            " 0.76316324 0.79670665 0.80585485 0.7889815  0.78003659 0.73978451\n",
            " 0.73002643 0.73490547 0.74872942 0.75991055 0.75462492 0.75401504\n",
            " 0.76174019 0.7737345  0.82008538 0.80585485 0.81154706 0.77434438\n",
            " 0.78633869 0.79284407 0.78328929 0.77109169 0.74385038 0.71193332\n",
            " 0.68733482 0.67818662 0.65257166 0.64301687 0.65643423 0.67656028\n",
            " 0.67371417 0.65114861 0.65521447 0.66761537 0.67838992 0.69993901\n",
            " 0.63122586 0.63508843 0.64098394 0.64545639 0.64118723 0.63854442\n",
            " 0.63081927 0.62472047 0.6330555  0.64728603 0.6574507  0.66761537\n",
            " 0.66720878 0.64159382 0.62776987 0.63651149 0.63630819 0.62980281\n",
            " 0.62817646 0.63813783 0.65358813 0.63183574 0.57653995 0.57816629\n",
            " 0.57613336 0.61943484 0.57979264 0.57288067 0.62573694 0.63102257\n",
            " 0.6361049  0.62776987 0.6269567  0.63590161 0.62594023 0.6391543\n",
            " 0.62614353 0.62268754 0.59889364 0.57736725 0.5561825  0.5391044\n",
            " 0.52500743 0.51310539 0.50319809 0.49502495 0.48814282 0.48208117\n",
            " 0.47646886 0.47106582 0.46574646 0.46046892]\n",
            "14 day output [[0.4552472]]\n",
            "15 day input [0.73144948 0.74486684 0.76926205 0.75991055 0.74242732 0.73958122\n",
            " 0.74771295 0.75991055 0.7584875  0.76621264 0.75462492 0.76316324\n",
            " 0.79670665 0.80585485 0.7889815  0.78003659 0.73978451 0.73002643\n",
            " 0.73490547 0.74872942 0.75991055 0.75462492 0.75401504 0.76174019\n",
            " 0.7737345  0.82008538 0.80585485 0.81154706 0.77434438 0.78633869\n",
            " 0.79284407 0.78328929 0.77109169 0.74385038 0.71193332 0.68733482\n",
            " 0.67818662 0.65257166 0.64301687 0.65643423 0.67656028 0.67371417\n",
            " 0.65114861 0.65521447 0.66761537 0.67838992 0.69993901 0.63122586\n",
            " 0.63508843 0.64098394 0.64545639 0.64118723 0.63854442 0.63081927\n",
            " 0.62472047 0.6330555  0.64728603 0.6574507  0.66761537 0.66720878\n",
            " 0.64159382 0.62776987 0.63651149 0.63630819 0.62980281 0.62817646\n",
            " 0.63813783 0.65358813 0.63183574 0.57653995 0.57816629 0.57613336\n",
            " 0.61943484 0.57979264 0.57288067 0.62573694 0.63102257 0.6361049\n",
            " 0.62776987 0.6269567  0.63590161 0.62594023 0.6391543  0.62614353\n",
            " 0.62268754 0.59889364 0.57736725 0.5561825  0.5391044  0.52500743\n",
            " 0.51310539 0.50319809 0.49502495 0.48814282 0.48208117 0.47646886\n",
            " 0.47106582 0.46574646 0.46046892 0.45524719]\n",
            "15 day output [[0.45012584]]\n",
            "16 day input [0.74486684 0.76926205 0.75991055 0.74242732 0.73958122 0.74771295\n",
            " 0.75991055 0.7584875  0.76621264 0.75462492 0.76316324 0.79670665\n",
            " 0.80585485 0.7889815  0.78003659 0.73978451 0.73002643 0.73490547\n",
            " 0.74872942 0.75991055 0.75462492 0.75401504 0.76174019 0.7737345\n",
            " 0.82008538 0.80585485 0.81154706 0.77434438 0.78633869 0.79284407\n",
            " 0.78328929 0.77109169 0.74385038 0.71193332 0.68733482 0.67818662\n",
            " 0.65257166 0.64301687 0.65643423 0.67656028 0.67371417 0.65114861\n",
            " 0.65521447 0.66761537 0.67838992 0.69993901 0.63122586 0.63508843\n",
            " 0.64098394 0.64545639 0.64118723 0.63854442 0.63081927 0.62472047\n",
            " 0.6330555  0.64728603 0.6574507  0.66761537 0.66720878 0.64159382\n",
            " 0.62776987 0.63651149 0.63630819 0.62980281 0.62817646 0.63813783\n",
            " 0.65358813 0.63183574 0.57653995 0.57816629 0.57613336 0.61943484\n",
            " 0.57979264 0.57288067 0.62573694 0.63102257 0.6361049  0.62776987\n",
            " 0.6269567  0.63590161 0.62594023 0.6391543  0.62614353 0.62268754\n",
            " 0.59889364 0.57736725 0.5561825  0.5391044  0.52500743 0.51310539\n",
            " 0.50319809 0.49502495 0.48814282 0.48208117 0.47646886 0.47106582\n",
            " 0.46574646 0.46046892 0.45524719 0.45012584]\n",
            "16 day output [[0.4451603]]\n",
            "17 day input [0.76926205 0.75991055 0.74242732 0.73958122 0.74771295 0.75991055\n",
            " 0.7584875  0.76621264 0.75462492 0.76316324 0.79670665 0.80585485\n",
            " 0.7889815  0.78003659 0.73978451 0.73002643 0.73490547 0.74872942\n",
            " 0.75991055 0.75462492 0.75401504 0.76174019 0.7737345  0.82008538\n",
            " 0.80585485 0.81154706 0.77434438 0.78633869 0.79284407 0.78328929\n",
            " 0.77109169 0.74385038 0.71193332 0.68733482 0.67818662 0.65257166\n",
            " 0.64301687 0.65643423 0.67656028 0.67371417 0.65114861 0.65521447\n",
            " 0.66761537 0.67838992 0.69993901 0.63122586 0.63508843 0.64098394\n",
            " 0.64545639 0.64118723 0.63854442 0.63081927 0.62472047 0.6330555\n",
            " 0.64728603 0.6574507  0.66761537 0.66720878 0.64159382 0.62776987\n",
            " 0.63651149 0.63630819 0.62980281 0.62817646 0.63813783 0.65358813\n",
            " 0.63183574 0.57653995 0.57816629 0.57613336 0.61943484 0.57979264\n",
            " 0.57288067 0.62573694 0.63102257 0.6361049  0.62776987 0.6269567\n",
            " 0.63590161 0.62594023 0.6391543  0.62614353 0.62268754 0.59889364\n",
            " 0.57736725 0.5561825  0.5391044  0.52500743 0.51310539 0.50319809\n",
            " 0.49502495 0.48814282 0.48208117 0.47646886 0.47106582 0.46574646\n",
            " 0.46046892 0.45524719 0.45012584 0.4451603 ]\n",
            "17 day output [[0.44040123]]\n",
            "18 day input [0.75991055 0.74242732 0.73958122 0.74771295 0.75991055 0.7584875\n",
            " 0.76621264 0.75462492 0.76316324 0.79670665 0.80585485 0.7889815\n",
            " 0.78003659 0.73978451 0.73002643 0.73490547 0.74872942 0.75991055\n",
            " 0.75462492 0.75401504 0.76174019 0.7737345  0.82008538 0.80585485\n",
            " 0.81154706 0.77434438 0.78633869 0.79284407 0.78328929 0.77109169\n",
            " 0.74385038 0.71193332 0.68733482 0.67818662 0.65257166 0.64301687\n",
            " 0.65643423 0.67656028 0.67371417 0.65114861 0.65521447 0.66761537\n",
            " 0.67838992 0.69993901 0.63122586 0.63508843 0.64098394 0.64545639\n",
            " 0.64118723 0.63854442 0.63081927 0.62472047 0.6330555  0.64728603\n",
            " 0.6574507  0.66761537 0.66720878 0.64159382 0.62776987 0.63651149\n",
            " 0.63630819 0.62980281 0.62817646 0.63813783 0.65358813 0.63183574\n",
            " 0.57653995 0.57816629 0.57613336 0.61943484 0.57979264 0.57288067\n",
            " 0.62573694 0.63102257 0.6361049  0.62776987 0.6269567  0.63590161\n",
            " 0.62594023 0.6391543  0.62614353 0.62268754 0.59889364 0.57736725\n",
            " 0.5561825  0.5391044  0.52500743 0.51310539 0.50319809 0.49502495\n",
            " 0.48814282 0.48208117 0.47646886 0.47106582 0.46574646 0.46046892\n",
            " 0.45524719 0.45012584 0.4451603  0.44040123]\n",
            "18 day output [[0.43588617]]\n",
            "19 day input [0.74242732 0.73958122 0.74771295 0.75991055 0.7584875  0.76621264\n",
            " 0.75462492 0.76316324 0.79670665 0.80585485 0.7889815  0.78003659\n",
            " 0.73978451 0.73002643 0.73490547 0.74872942 0.75991055 0.75462492\n",
            " 0.75401504 0.76174019 0.7737345  0.82008538 0.80585485 0.81154706\n",
            " 0.77434438 0.78633869 0.79284407 0.78328929 0.77109169 0.74385038\n",
            " 0.71193332 0.68733482 0.67818662 0.65257166 0.64301687 0.65643423\n",
            " 0.67656028 0.67371417 0.65114861 0.65521447 0.66761537 0.67838992\n",
            " 0.69993901 0.63122586 0.63508843 0.64098394 0.64545639 0.64118723\n",
            " 0.63854442 0.63081927 0.62472047 0.6330555  0.64728603 0.6574507\n",
            " 0.66761537 0.66720878 0.64159382 0.62776987 0.63651149 0.63630819\n",
            " 0.62980281 0.62817646 0.63813783 0.65358813 0.63183574 0.57653995\n",
            " 0.57816629 0.57613336 0.61943484 0.57979264 0.57288067 0.62573694\n",
            " 0.63102257 0.6361049  0.62776987 0.6269567  0.63590161 0.62594023\n",
            " 0.6391543  0.62614353 0.62268754 0.59889364 0.57736725 0.5561825\n",
            " 0.5391044  0.52500743 0.51310539 0.50319809 0.49502495 0.48814282\n",
            " 0.48208117 0.47646886 0.47106582 0.46574646 0.46046892 0.45524719\n",
            " 0.45012584 0.4451603  0.44040123 0.43588617]\n",
            "19 day output [[0.4316355]]\n",
            "20 day input [0.73958122 0.74771295 0.75991055 0.7584875  0.76621264 0.75462492\n",
            " 0.76316324 0.79670665 0.80585485 0.7889815  0.78003659 0.73978451\n",
            " 0.73002643 0.73490547 0.74872942 0.75991055 0.75462492 0.75401504\n",
            " 0.76174019 0.7737345  0.82008538 0.80585485 0.81154706 0.77434438\n",
            " 0.78633869 0.79284407 0.78328929 0.77109169 0.74385038 0.71193332\n",
            " 0.68733482 0.67818662 0.65257166 0.64301687 0.65643423 0.67656028\n",
            " 0.67371417 0.65114861 0.65521447 0.66761537 0.67838992 0.69993901\n",
            " 0.63122586 0.63508843 0.64098394 0.64545639 0.64118723 0.63854442\n",
            " 0.63081927 0.62472047 0.6330555  0.64728603 0.6574507  0.66761537\n",
            " 0.66720878 0.64159382 0.62776987 0.63651149 0.63630819 0.62980281\n",
            " 0.62817646 0.63813783 0.65358813 0.63183574 0.57653995 0.57816629\n",
            " 0.57613336 0.61943484 0.57979264 0.57288067 0.62573694 0.63102257\n",
            " 0.6361049  0.62776987 0.6269567  0.63590161 0.62594023 0.6391543\n",
            " 0.62614353 0.62268754 0.59889364 0.57736725 0.5561825  0.5391044\n",
            " 0.52500743 0.51310539 0.50319809 0.49502495 0.48814282 0.48208117\n",
            " 0.47646886 0.47106582 0.46574646 0.46046892 0.45524719 0.45012584\n",
            " 0.4451603  0.44040123 0.43588617 0.4316355 ]\n",
            "20 day output [[0.4276528]]\n",
            "21 day input [0.74771295 0.75991055 0.7584875  0.76621264 0.75462492 0.76316324\n",
            " 0.79670665 0.80585485 0.7889815  0.78003659 0.73978451 0.73002643\n",
            " 0.73490547 0.74872942 0.75991055 0.75462492 0.75401504 0.76174019\n",
            " 0.7737345  0.82008538 0.80585485 0.81154706 0.77434438 0.78633869\n",
            " 0.79284407 0.78328929 0.77109169 0.74385038 0.71193332 0.68733482\n",
            " 0.67818662 0.65257166 0.64301687 0.65643423 0.67656028 0.67371417\n",
            " 0.65114861 0.65521447 0.66761537 0.67838992 0.69993901 0.63122586\n",
            " 0.63508843 0.64098394 0.64545639 0.64118723 0.63854442 0.63081927\n",
            " 0.62472047 0.6330555  0.64728603 0.6574507  0.66761537 0.66720878\n",
            " 0.64159382 0.62776987 0.63651149 0.63630819 0.62980281 0.62817646\n",
            " 0.63813783 0.65358813 0.63183574 0.57653995 0.57816629 0.57613336\n",
            " 0.61943484 0.57979264 0.57288067 0.62573694 0.63102257 0.6361049\n",
            " 0.62776987 0.6269567  0.63590161 0.62594023 0.6391543  0.62614353\n",
            " 0.62268754 0.59889364 0.57736725 0.5561825  0.5391044  0.52500743\n",
            " 0.51310539 0.50319809 0.49502495 0.48814282 0.48208117 0.47646886\n",
            " 0.47106582 0.46574646 0.46046892 0.45524719 0.45012584 0.4451603\n",
            " 0.44040123 0.43588617 0.4316355  0.42765281]\n",
            "21 day output [[0.42392787]]\n",
            "22 day input [0.75991055 0.7584875  0.76621264 0.75462492 0.76316324 0.79670665\n",
            " 0.80585485 0.7889815  0.78003659 0.73978451 0.73002643 0.73490547\n",
            " 0.74872942 0.75991055 0.75462492 0.75401504 0.76174019 0.7737345\n",
            " 0.82008538 0.80585485 0.81154706 0.77434438 0.78633869 0.79284407\n",
            " 0.78328929 0.77109169 0.74385038 0.71193332 0.68733482 0.67818662\n",
            " 0.65257166 0.64301687 0.65643423 0.67656028 0.67371417 0.65114861\n",
            " 0.65521447 0.66761537 0.67838992 0.69993901 0.63122586 0.63508843\n",
            " 0.64098394 0.64545639 0.64118723 0.63854442 0.63081927 0.62472047\n",
            " 0.6330555  0.64728603 0.6574507  0.66761537 0.66720878 0.64159382\n",
            " 0.62776987 0.63651149 0.63630819 0.62980281 0.62817646 0.63813783\n",
            " 0.65358813 0.63183574 0.57653995 0.57816629 0.57613336 0.61943484\n",
            " 0.57979264 0.57288067 0.62573694 0.63102257 0.6361049  0.62776987\n",
            " 0.6269567  0.63590161 0.62594023 0.6391543  0.62614353 0.62268754\n",
            " 0.59889364 0.57736725 0.5561825  0.5391044  0.52500743 0.51310539\n",
            " 0.50319809 0.49502495 0.48814282 0.48208117 0.47646886 0.47106582\n",
            " 0.46574646 0.46046892 0.45524719 0.45012584 0.4451603  0.44040123\n",
            " 0.43588617 0.4316355  0.42765281 0.42392787]\n",
            "22 day output [[0.42044076]]\n",
            "23 day input [0.7584875  0.76621264 0.75462492 0.76316324 0.79670665 0.80585485\n",
            " 0.7889815  0.78003659 0.73978451 0.73002643 0.73490547 0.74872942\n",
            " 0.75991055 0.75462492 0.75401504 0.76174019 0.7737345  0.82008538\n",
            " 0.80585485 0.81154706 0.77434438 0.78633869 0.79284407 0.78328929\n",
            " 0.77109169 0.74385038 0.71193332 0.68733482 0.67818662 0.65257166\n",
            " 0.64301687 0.65643423 0.67656028 0.67371417 0.65114861 0.65521447\n",
            " 0.66761537 0.67838992 0.69993901 0.63122586 0.63508843 0.64098394\n",
            " 0.64545639 0.64118723 0.63854442 0.63081927 0.62472047 0.6330555\n",
            " 0.64728603 0.6574507  0.66761537 0.66720878 0.64159382 0.62776987\n",
            " 0.63651149 0.63630819 0.62980281 0.62817646 0.63813783 0.65358813\n",
            " 0.63183574 0.57653995 0.57816629 0.57613336 0.61943484 0.57979264\n",
            " 0.57288067 0.62573694 0.63102257 0.6361049  0.62776987 0.6269567\n",
            " 0.63590161 0.62594023 0.6391543  0.62614353 0.62268754 0.59889364\n",
            " 0.57736725 0.5561825  0.5391044  0.52500743 0.51310539 0.50319809\n",
            " 0.49502495 0.48814282 0.48208117 0.47646886 0.47106582 0.46574646\n",
            " 0.46046892 0.45524719 0.45012584 0.4451603  0.44040123 0.43588617\n",
            " 0.4316355  0.42765281 0.42392787 0.42044076]\n",
            "23 day output [[0.4171658]]\n",
            "24 day input [0.76621264 0.75462492 0.76316324 0.79670665 0.80585485 0.7889815\n",
            " 0.78003659 0.73978451 0.73002643 0.73490547 0.74872942 0.75991055\n",
            " 0.75462492 0.75401504 0.76174019 0.7737345  0.82008538 0.80585485\n",
            " 0.81154706 0.77434438 0.78633869 0.79284407 0.78328929 0.77109169\n",
            " 0.74385038 0.71193332 0.68733482 0.67818662 0.65257166 0.64301687\n",
            " 0.65643423 0.67656028 0.67371417 0.65114861 0.65521447 0.66761537\n",
            " 0.67838992 0.69993901 0.63122586 0.63508843 0.64098394 0.64545639\n",
            " 0.64118723 0.63854442 0.63081927 0.62472047 0.6330555  0.64728603\n",
            " 0.6574507  0.66761537 0.66720878 0.64159382 0.62776987 0.63651149\n",
            " 0.63630819 0.62980281 0.62817646 0.63813783 0.65358813 0.63183574\n",
            " 0.57653995 0.57816629 0.57613336 0.61943484 0.57979264 0.57288067\n",
            " 0.62573694 0.63102257 0.6361049  0.62776987 0.6269567  0.63590161\n",
            " 0.62594023 0.6391543  0.62614353 0.62268754 0.59889364 0.57736725\n",
            " 0.5561825  0.5391044  0.52500743 0.51310539 0.50319809 0.49502495\n",
            " 0.48814282 0.48208117 0.47646886 0.47106582 0.46574646 0.46046892\n",
            " 0.45524719 0.45012584 0.4451603  0.44040123 0.43588617 0.4316355\n",
            " 0.42765281 0.42392787 0.42044076 0.41716579]\n",
            "24 day output [[0.41407654]]\n",
            "25 day input [0.75462492 0.76316324 0.79670665 0.80585485 0.7889815  0.78003659\n",
            " 0.73978451 0.73002643 0.73490547 0.74872942 0.75991055 0.75462492\n",
            " 0.75401504 0.76174019 0.7737345  0.82008538 0.80585485 0.81154706\n",
            " 0.77434438 0.78633869 0.79284407 0.78328929 0.77109169 0.74385038\n",
            " 0.71193332 0.68733482 0.67818662 0.65257166 0.64301687 0.65643423\n",
            " 0.67656028 0.67371417 0.65114861 0.65521447 0.66761537 0.67838992\n",
            " 0.69993901 0.63122586 0.63508843 0.64098394 0.64545639 0.64118723\n",
            " 0.63854442 0.63081927 0.62472047 0.6330555  0.64728603 0.6574507\n",
            " 0.66761537 0.66720878 0.64159382 0.62776987 0.63651149 0.63630819\n",
            " 0.62980281 0.62817646 0.63813783 0.65358813 0.63183574 0.57653995\n",
            " 0.57816629 0.57613336 0.61943484 0.57979264 0.57288067 0.62573694\n",
            " 0.63102257 0.6361049  0.62776987 0.6269567  0.63590161 0.62594023\n",
            " 0.6391543  0.62614353 0.62268754 0.59889364 0.57736725 0.5561825\n",
            " 0.5391044  0.52500743 0.51310539 0.50319809 0.49502495 0.48814282\n",
            " 0.48208117 0.47646886 0.47106582 0.46574646 0.46046892 0.45524719\n",
            " 0.45012584 0.4451603  0.44040123 0.43588617 0.4316355  0.42765281\n",
            " 0.42392787 0.42044076 0.41716579 0.41407654]\n",
            "25 day output [[0.4111473]]\n",
            "26 day input [0.76316324 0.79670665 0.80585485 0.7889815  0.78003659 0.73978451\n",
            " 0.73002643 0.73490547 0.74872942 0.75991055 0.75462492 0.75401504\n",
            " 0.76174019 0.7737345  0.82008538 0.80585485 0.81154706 0.77434438\n",
            " 0.78633869 0.79284407 0.78328929 0.77109169 0.74385038 0.71193332\n",
            " 0.68733482 0.67818662 0.65257166 0.64301687 0.65643423 0.67656028\n",
            " 0.67371417 0.65114861 0.65521447 0.66761537 0.67838992 0.69993901\n",
            " 0.63122586 0.63508843 0.64098394 0.64545639 0.64118723 0.63854442\n",
            " 0.63081927 0.62472047 0.6330555  0.64728603 0.6574507  0.66761537\n",
            " 0.66720878 0.64159382 0.62776987 0.63651149 0.63630819 0.62980281\n",
            " 0.62817646 0.63813783 0.65358813 0.63183574 0.57653995 0.57816629\n",
            " 0.57613336 0.61943484 0.57979264 0.57288067 0.62573694 0.63102257\n",
            " 0.6361049  0.62776987 0.6269567  0.63590161 0.62594023 0.6391543\n",
            " 0.62614353 0.62268754 0.59889364 0.57736725 0.5561825  0.5391044\n",
            " 0.52500743 0.51310539 0.50319809 0.49502495 0.48814282 0.48208117\n",
            " 0.47646886 0.47106582 0.46574646 0.46046892 0.45524719 0.45012584\n",
            " 0.4451603  0.44040123 0.43588617 0.4316355  0.42765281 0.42392787\n",
            " 0.42044076 0.41716579 0.41407654 0.4111473 ]\n",
            "26 day output [[0.4083562]]\n",
            "27 day input [0.79670665 0.80585485 0.7889815  0.78003659 0.73978451 0.73002643\n",
            " 0.73490547 0.74872942 0.75991055 0.75462492 0.75401504 0.76174019\n",
            " 0.7737345  0.82008538 0.80585485 0.81154706 0.77434438 0.78633869\n",
            " 0.79284407 0.78328929 0.77109169 0.74385038 0.71193332 0.68733482\n",
            " 0.67818662 0.65257166 0.64301687 0.65643423 0.67656028 0.67371417\n",
            " 0.65114861 0.65521447 0.66761537 0.67838992 0.69993901 0.63122586\n",
            " 0.63508843 0.64098394 0.64545639 0.64118723 0.63854442 0.63081927\n",
            " 0.62472047 0.6330555  0.64728603 0.6574507  0.66761537 0.66720878\n",
            " 0.64159382 0.62776987 0.63651149 0.63630819 0.62980281 0.62817646\n",
            " 0.63813783 0.65358813 0.63183574 0.57653995 0.57816629 0.57613336\n",
            " 0.61943484 0.57979264 0.57288067 0.62573694 0.63102257 0.6361049\n",
            " 0.62776987 0.6269567  0.63590161 0.62594023 0.6391543  0.62614353\n",
            " 0.62268754 0.59889364 0.57736725 0.5561825  0.5391044  0.52500743\n",
            " 0.51310539 0.50319809 0.49502495 0.48814282 0.48208117 0.47646886\n",
            " 0.47106582 0.46574646 0.46046892 0.45524719 0.45012584 0.4451603\n",
            " 0.44040123 0.43588617 0.4316355  0.42765281 0.42392787 0.42044076\n",
            " 0.41716579 0.41407654 0.4111473  0.40835619]\n",
            "27 day output [[0.40568477]]\n",
            "28 day input [0.80585485 0.7889815  0.78003659 0.73978451 0.73002643 0.73490547\n",
            " 0.74872942 0.75991055 0.75462492 0.75401504 0.76174019 0.7737345\n",
            " 0.82008538 0.80585485 0.81154706 0.77434438 0.78633869 0.79284407\n",
            " 0.78328929 0.77109169 0.74385038 0.71193332 0.68733482 0.67818662\n",
            " 0.65257166 0.64301687 0.65643423 0.67656028 0.67371417 0.65114861\n",
            " 0.65521447 0.66761537 0.67838992 0.69993901 0.63122586 0.63508843\n",
            " 0.64098394 0.64545639 0.64118723 0.63854442 0.63081927 0.62472047\n",
            " 0.6330555  0.64728603 0.6574507  0.66761537 0.66720878 0.64159382\n",
            " 0.62776987 0.63651149 0.63630819 0.62980281 0.62817646 0.63813783\n",
            " 0.65358813 0.63183574 0.57653995 0.57816629 0.57613336 0.61943484\n",
            " 0.57979264 0.57288067 0.62573694 0.63102257 0.6361049  0.62776987\n",
            " 0.6269567  0.63590161 0.62594023 0.6391543  0.62614353 0.62268754\n",
            " 0.59889364 0.57736725 0.5561825  0.5391044  0.52500743 0.51310539\n",
            " 0.50319809 0.49502495 0.48814282 0.48208117 0.47646886 0.47106582\n",
            " 0.46574646 0.46046892 0.45524719 0.45012584 0.4451603  0.44040123\n",
            " 0.43588617 0.4316355  0.42765281 0.42392787 0.42044076 0.41716579\n",
            " 0.41407654 0.4111473  0.40835619 0.40568477]\n",
            "28 day output [[0.40311864]]\n",
            "29 day input [0.7889815  0.78003659 0.73978451 0.73002643 0.73490547 0.74872942\n",
            " 0.75991055 0.75462492 0.75401504 0.76174019 0.7737345  0.82008538\n",
            " 0.80585485 0.81154706 0.77434438 0.78633869 0.79284407 0.78328929\n",
            " 0.77109169 0.74385038 0.71193332 0.68733482 0.67818662 0.65257166\n",
            " 0.64301687 0.65643423 0.67656028 0.67371417 0.65114861 0.65521447\n",
            " 0.66761537 0.67838992 0.69993901 0.63122586 0.63508843 0.64098394\n",
            " 0.64545639 0.64118723 0.63854442 0.63081927 0.62472047 0.6330555\n",
            " 0.64728603 0.6574507  0.66761537 0.66720878 0.64159382 0.62776987\n",
            " 0.63651149 0.63630819 0.62980281 0.62817646 0.63813783 0.65358813\n",
            " 0.63183574 0.57653995 0.57816629 0.57613336 0.61943484 0.57979264\n",
            " 0.57288067 0.62573694 0.63102257 0.6361049  0.62776987 0.6269567\n",
            " 0.63590161 0.62594023 0.6391543  0.62614353 0.62268754 0.59889364\n",
            " 0.57736725 0.5561825  0.5391044  0.52500743 0.51310539 0.50319809\n",
            " 0.49502495 0.48814282 0.48208117 0.47646886 0.47106582 0.46574646\n",
            " 0.46046892 0.45524719 0.45012584 0.4451603  0.44040123 0.43588617\n",
            " 0.4316355  0.42765281 0.42392787 0.42044076 0.41716579 0.41407654\n",
            " 0.4111473  0.40835619 0.40568477 0.40311864]\n",
            "29 day output [[0.4006477]]\n",
            "[[0.5988936424255371], [0.5773672461509705], [0.5561825037002563], [0.5391044020652771], [0.525007426738739], [0.5131053924560547], [0.5031980872154236], [0.4950249493122101], [0.48814281821250916], [0.48208117485046387], [0.47646886110305786], [0.47106581926345825], [0.4657464623451233], [0.46046891808509827], [0.4552471935749054], [0.4501258432865143], [0.44516029953956604], [0.44040122628211975], [0.4358861744403839], [0.4316354990005493], [0.4276528060436249], [0.4239278733730316], [0.42044076323509216], [0.4171657860279083], [0.4140765368938446], [0.4111472964286804], [0.4083561897277832], [0.40568476915359497], [0.40311864018440247], [0.40064769983291626]]\n"
          ],
          "name": "stdout"
        }
      ]
    },
    {
      "cell_type": "code",
      "metadata": {
        "id": "GucHp9M7G1vp"
      },
      "source": [
        "day_new=np.arange(1,101)\n",
        "day_pred=np.arange(101,131) #for 30 days prediction"
      ],
      "execution_count": 53,
      "outputs": []
    },
    {
      "cell_type": "code",
      "metadata": {
        "colab": {
          "base_uri": "https://localhost:8080/"
        },
        "id": "m7NYeq-SHNZt",
        "outputId": "1a735f25-c9ea-46ad-a4cf-28e359c46460"
      },
      "source": [
        "import matplotlib.pyplot as plt\n",
        "len(d1)"
      ],
      "execution_count": 54,
      "outputs": [
        {
          "output_type": "execute_result",
          "data": {
            "text/plain": [
              "2035"
            ]
          },
          "metadata": {
            "tags": []
          },
          "execution_count": 54
        }
      ]
    },
    {
      "cell_type": "code",
      "metadata": {
        "colab": {
          "base_uri": "https://localhost:8080/",
          "height": 283
        },
        "id": "SD5yyCQSHVY9",
        "outputId": "4139d7ec-3e63-4811-c6d3-d8704c30040f"
      },
      "source": [
        "#Plotting the previous data and predicted data\n",
        "plt.plot(day_new,sc.inverse_transform(d1[1935:]))\n",
        "plt.plot(day_pred,sc.inverse_transform(l_output))"
      ],
      "execution_count": 56,
      "outputs": [
        {
          "output_type": "execute_result",
          "data": {
            "text/plain": [
              "[<matplotlib.lines.Line2D at 0x7ff33462b2d0>]"
            ]
          },
          "metadata": {
            "tags": []
          },
          "execution_count": 56
        },
        {
          "output_type": "display_data",
          "data": {
            "image/png": "[encoded data removed]",
            "text/plain": [
              "<Figure size 432x288 with 1 Axes>"
            ]
          },
          "metadata": {
            "tags": [],
            "needs_background": "light"
          }
        }
      ]
    },
    {
      "cell_type": "code",
      "metadata": {
        "colab": {
          "base_uri": "https://localhost:8080/",
          "height": 282
        },
        "id": "A-6uvVg1IM-A",
        "outputId": "eb924c4a-fddb-4200-cd40-3a9bea92a0e8"
      },
      "source": [
        "#Complete output of prediction.\n",
        "d2=d1.tolist()\n",
        "d2.extend(l_output)\n",
        "plt.plot(d2[1500:])\n",
        "#smooth line is our prediction"
      ],
      "execution_count": 59,
      "outputs": [
        {
          "output_type": "execute_result",
          "data": {
            "text/plain": [
              "[<matplotlib.lines.Line2D at 0x7ff3343e4d90>]"
            ]
          },
          "metadata": {
            "tags": []
          },
          "execution_count": 59
        },
        {
          "output_type": "display_data",
          "data": {
            "image/png": "[encoded data removed]",
            "text/plain": [
              "<Figure size 432x288 with 1 Axes>"
            ]
          },
          "metadata": {
            "tags": [],
            "needs_background": "light"
          }
        }
      ]
    }
  ]
}